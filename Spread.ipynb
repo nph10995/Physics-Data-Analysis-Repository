{
 "cells": [
  {
   "cell_type": "code",
   "execution_count": 43,
   "metadata": {
    "collapsed": true
   },
   "outputs": [],
   "source": [
    "import matplotlib.pyplot as plt\n",
    "import sklearn as skl\n",
    "import pandas as pd\n",
    "import numpy as np"
   ]
  },
  {
   "cell_type": "markdown",
   "metadata": {},
   "source": [
    "# First Method in Pure Python\n",
    "Idea: Look for market extremes. \n",
    "\n",
    "Definition of Market Extremes:\n",
    "    Market extremes are when there is major lack of liquidity. I defined a Lack of Liquidity as a situation where the Bid-Ask spread was greater than 5 pips in width. This is a case where the occurance is greater than the 50th percentile. In this sample there was 77 occurances (.12 % of the occurances). "
   ]
  },
  {
   "cell_type": "code",
   "execution_count": 44,
   "metadata": {
    "collapsed": false
   },
   "outputs": [
    {
     "data": {
      "text/plain": [
       "['2.01305E+13', '1.55358', '1.55371']"
      ]
     },
     "execution_count": 44,
     "metadata": {},
     "output_type": "execute_result"
    }
   ],
   "source": [
    "#use pandas to import the \n",
    "GU = pd.read_csv(\"GBPUSD1d.csv\")\n",
    "list(GU)"
   ]
  },
  {
   "cell_type": "code",
   "execution_count": 45,
   "metadata": {
    "collapsed": true
   },
   "outputs": [],
   "source": [
    "biddf = GU['1.55358']\n",
    "askdf = GU['1.55371']"
   ]
  },
  {
   "cell_type": "code",
   "execution_count": 46,
   "metadata": {
    "collapsed": false
   },
   "outputs": [
    {
     "name": "stdout",
     "output_type": "stream",
     "text": [
      "<class 'list'>\n",
      "<class 'list'>\n"
     ]
    }
   ],
   "source": [
    "bid = list(biddf)\n",
    "ask = list(askdf)\n",
    "print(type(bid))\n",
    "print(type(ask))"
   ]
  },
  {
   "cell_type": "code",
   "execution_count": 47,
   "metadata": {
    "collapsed": false
   },
   "outputs": [],
   "source": [
    "spread = []\n",
    "for i in range(len(bid)): \n",
    "    spread.append(ask[i]-bid[i])\n"
   ]
  },
  {
   "cell_type": "code",
   "execution_count": 48,
   "metadata": {
    "collapsed": true
   },
   "outputs": [],
   "source": [
    "spread_list = spread"
   ]
  },
  {
   "cell_type": "code",
   "execution_count": 49,
   "metadata": {
    "collapsed": false
   },
   "outputs": [
    {
     "name": "stdout",
     "output_type": "stream",
     "text": [
      "62011\n",
      "<class 'list'>\n"
     ]
    }
   ],
   "source": [
    "print(len(spread))\n",
    "print(type(spread))"
   ]
  },
  {
   "cell_type": "code",
   "execution_count": 50,
   "metadata": {
    "collapsed": false
   },
   "outputs": [
    {
     "data": {
      "text/plain": [
       "list"
      ]
     },
     "execution_count": 50,
     "metadata": {},
     "output_type": "execute_result"
    }
   ],
   "source": [
    "type(spread)"
   ]
  },
  {
   "cell_type": "code",
   "execution_count": 70,
   "metadata": {
    "collapsed": false
   },
   "outputs": [
    {
     "name": "stdout",
     "output_type": "stream",
     "text": [
      "18 <class 'list'>\n"
     ]
    }
   ],
   "source": [
    "maxspread = []\n",
    "for i in spread_list:\n",
    "    if i > .0007:\n",
    "        maxspread.append(i)\n",
    "print(len(maxspread), type(maxspread))"
   ]
  },
  {
   "cell_type": "code",
   "execution_count": 71,
   "metadata": {
    "collapsed": false
   },
   "outputs": [
    {
     "name": "stdout",
     "output_type": "stream",
     "text": [
      "<class 'list'>\n",
      "18\n",
      "<class 'numpy.float64'>\n"
     ]
    }
   ],
   "source": [
    "print(type(maxspread))\n",
    "print(len(maxspread))\n",
    "print(type(spread))"
   ]
  },
  {
   "cell_type": "code",
   "execution_count": 76,
   "metadata": {
    "collapsed": false
   },
   "outputs": [
    {
     "name": "stdout",
     "output_type": "stream",
     "text": [
      "62011 <class 'list'>\n"
     ]
    }
   ],
   "source": [
    "price = []\n",
    "for i in range(len(bid)):\n",
    "    price.append((bid[i]+ask[i])/2)\n",
    "print(len(price), type(price))"
   ]
  },
  {
   "cell_type": "code",
   "execution_count": 73,
   "metadata": {
    "collapsed": true
   },
   "outputs": [],
   "source": [
    "ind = np.linspace(0,62010,62011)"
   ]
  },
  {
   "cell_type": "code",
   "execution_count": 74,
   "metadata": {
    "collapsed": false
   },
   "outputs": [],
   "source": [
    "price_index = zip(price,ind)\n",
    "price_index_dict = {}\n",
    "for price, ind in price_index:\n",
    "    price_index_dict[price]=ind"
   ]
  },
  {
   "cell_type": "code",
   "execution_count": 77,
   "metadata": {
    "collapsed": false,
    "scrolled": true
   },
   "outputs": [],
   "source": [
    "price_spread = zip(spread_list, price)\n",
    "\n",
    "#print(type(price_spread))\n",
    "spread_dict={}\n",
    "for avg, spread in price_spread:\n",
    "    spread_dict[avg] = spread\n",
    "\n"
   ]
  },
  {
   "cell_type": "code",
   "execution_count": 78,
   "metadata": {
    "collapsed": true
   },
   "outputs": [],
   "source": [
    "ind_list = []\n",
    "for i in maxspread:\n",
    "    p = spread_dict[i]\n",
    "    ind_list.append(price_index_dict[p])"
   ]
  },
  {
   "cell_type": "code",
   "execution_count": 81,
   "metadata": {
    "collapsed": false
   },
   "outputs": [
    {
     "name": "stdout",
     "output_type": "stream",
     "text": [
      "[61396.0, 61396.0, 61736.0, 61830.0, 48467.0, 48467.0, 50947.0, 50947.0, 50947.0, 51083.0, 50933.0, 48450.0, 51091.0, 49742.0, 49993.0, 49993.0, 61855.0, 57135.0]\n"
     ]
    }
   ],
   "source": [
    "print(ind_list)\n"
   ]
  },
  {
   "cell_type": "code",
   "execution_count": 90,
   "metadata": {
    "collapsed": false
   },
   "outputs": [],
   "source": [
    "set1 = price[61730:61930]\n",
    "set1x = np.linspace(0,199,200)"
   ]
  },
  {
   "cell_type": "code",
   "execution_count": 91,
   "metadata": {
    "collapsed": false
   },
   "outputs": [
    {
     "data": {
      "image/png": "[encoded data removed]",
      "text/plain": [
       "<matplotlib.figure.Figure at 0x201042fdac8>"
      ]
     },
     "metadata": {},
     "output_type": "display_data"
    }
   ],
   "source": [
    "plt.plot(set1x,set1)\n",
    "plt.show()"
   ]
  },
  {
   "cell_type": "code",
   "execution_count": 16,
   "metadata": {
    "collapsed": false
   },
   "outputs": [
    {
     "data": {
      "text/plain": [
       "(-0.17978766571519189, 0.0)"
      ]
     },
     "execution_count": 16,
     "metadata": {},
     "output_type": "execute_result"
    }
   ],
   "source": [
    "import scipy.stats.stats as spss\n",
    "spss.pearsonr(spread_list,price)"
   ]
  },
  {
   "cell_type": "code",
   "execution_count": 17,
   "metadata": {
    "collapsed": false
   },
   "outputs": [
    {
     "data": {
      "text/plain": [
       "array([[ 1.        , -0.17978767],\n",
       "       [-0.17978767,  1.        ]])"
      ]
     },
     "execution_count": 17,
     "metadata": {},
     "output_type": "execute_result"
    }
   ],
   "source": [
    "np.corrcoef(spread_list, price)"
   ]
  },
  {
   "cell_type": "code",
   "execution_count": null,
   "metadata": {
    "collapsed": true
   },
   "outputs": [],
   "source": []
  }
 ],
 "metadata": {
  "anaconda-cloud": {},
  "kernelspec": {
   "display_name": "Python [default]",
   "language": "python",
   "name": "python3"
  },
  "language_info": {
   "codemirror_mode": {
    "name": "ipython",
    "version": 3
   },
   "file_extension": ".py",
   "mimetype": "text/x-python",
   "name": "python",
   "nbconvert_exporter": "python",
   "pygments_lexer": "ipython3",
   "version": "3.5.2"
  }
 },
 "nbformat": 4,
 "nbformat_minor": 1
}
